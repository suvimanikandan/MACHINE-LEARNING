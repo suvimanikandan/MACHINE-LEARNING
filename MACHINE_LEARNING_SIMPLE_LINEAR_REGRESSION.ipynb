{
 "cells": [
  {
   "cell_type": "markdown",
   "id": "3d7a1707",
   "metadata": {},
   "source": [
    "# Simple linear Regression"
   ]
  },
  {
   "cell_type": "markdown",
   "id": "7c06e77f",
   "metadata": {},
   "source": [
    "# Importing the libraries"
   ]
  },
  {
   "cell_type": "code",
   "execution_count": 3,
   "id": "da3e3301",
   "metadata": {},
   "outputs": [],
   "source": [
    "import numpy as np\n",
    "import matplotlib.pyplot as plt\n",
    "import pandas as pd"
   ]
  },
  {
   "cell_type": "markdown",
   "id": "76033650",
   "metadata": {},
   "source": [
    "# Importing the dataset"
   ]
  },
  {
   "cell_type": "code",
   "execution_count": 5,
   "id": "8e3a011d",
   "metadata": {},
   "outputs": [],
   "source": [
    "dataset=pd.read_csv(\"E:\\\\OneDrive\\\\Desktop\\\\Machine Learning A-Z Template Folder\\\\Part 2 - Regression\\\\Section 4 - Simple Linear Regression\\\\Salary_Data.csv\")\n",
    "X=dataset.iloc[:,:-1].values\n",
    "y=dataset.iloc[:,1].values"
   ]
  },
  {
   "cell_type": "code",
   "execution_count": 6,
   "id": "6659fc79",
   "metadata": {},
   "outputs": [
    {
     "name": "stdout",
     "output_type": "stream",
     "text": [
      "[[ 1.1]\n",
      " [ 1.3]\n",
      " [ 1.5]\n",
      " [ 2. ]\n",
      " [ 2.2]\n",
      " [ 2.9]\n",
      " [ 3. ]\n",
      " [ 3.2]\n",
      " [ 3.2]\n",
      " [ 3.7]\n",
      " [ 3.9]\n",
      " [ 4. ]\n",
      " [ 4. ]\n",
      " [ 4.1]\n",
      " [ 4.5]\n",
      " [ 4.9]\n",
      " [ 5.1]\n",
      " [ 5.3]\n",
      " [ 5.9]\n",
      " [ 6. ]\n",
      " [ 6.8]\n",
      " [ 7.1]\n",
      " [ 7.9]\n",
      " [ 8.2]\n",
      " [ 8.7]\n",
      " [ 9. ]\n",
      " [ 9.5]\n",
      " [ 9.6]\n",
      " [10.3]\n",
      " [10.5]]\n"
     ]
    }
   ],
   "source": [
    "print(X)"
   ]
  },
  {
   "cell_type": "code",
   "execution_count": 7,
   "id": "fb6ae6ec",
   "metadata": {},
   "outputs": [
    {
     "name": "stdout",
     "output_type": "stream",
     "text": [
      "[ 39343.  46205.  37731.  43525.  39891.  56642.  60150.  54445.  64445.\n",
      "  57189.  63218.  55794.  56957.  57081.  61111.  67938.  66029.  83088.\n",
      "  81363.  93940.  91738.  98273. 101302. 113812. 109431. 105582. 116969.\n",
      " 112635. 122391. 121872.]\n"
     ]
    }
   ],
   "source": [
    "print(y)"
   ]
  },
  {
   "cell_type": "markdown",
   "id": "47cfde72",
   "metadata": {},
   "source": [
    "# Splitting the dataset into thee training set and test set"
   ]
  },
  {
   "cell_type": "code",
   "execution_count": 8,
   "id": "d9d8b8b4",
   "metadata": {},
   "outputs": [],
   "source": [
    "from sklearn.model_selection import train_test_split\n",
    "X_train,X_test,y_train,y_test=train_test_split(X,y,test_size=0.2,random_state=0)"
   ]
  },
  {
   "cell_type": "markdown",
   "id": "c6399bac",
   "metadata": {},
   "source": [
    "# Training the Simple Linear Regression model on the training set"
   ]
  },
  {
   "cell_type": "code",
   "execution_count": 9,
   "id": "930b8f38",
   "metadata": {},
   "outputs": [
    {
     "data": {
      "text/plain": [
       "LinearRegression()"
      ]
     },
     "execution_count": 9,
     "metadata": {},
     "output_type": "execute_result"
    }
   ],
   "source": [
    "from sklearn.linear_model import LinearRegression\n",
    "regressor=LinearRegression()\n",
    "regressor.fit(X_train,y_train)"
   ]
  },
  {
   "cell_type": "markdown",
   "id": "92174883",
   "metadata": {},
   "source": [
    "# Predicting the test result"
   ]
  },
  {
   "cell_type": "code",
   "execution_count": 16,
   "id": "a9a237ff",
   "metadata": {},
   "outputs": [],
   "source": [
    "y_pred=regressor.predict(X_test)"
   ]
  },
  {
   "cell_type": "code",
   "execution_count": 15,
   "id": "9942c2d9",
   "metadata": {},
   "outputs": [],
   "source": [
    "#regressor.predict(X_train)"
   ]
  },
  {
   "cell_type": "markdown",
   "id": "bd524b6d",
   "metadata": {},
   "source": [
    "# Visualize the Training set results"
   ]
  },
  {
   "cell_type": "code",
   "execution_count": 21,
   "id": "74ac36b0",
   "metadata": {},
   "outputs": [
    {
     "data": {
      "image/png": "[encoded data removed]",
      "text/plain": [
       "<Figure size 432x288 with 1 Axes>"
      ]
     },
     "metadata": {
      "needs_background": "light"
     },
     "output_type": "display_data"
    }
   ],
   "source": [
    "plt.scatter(X_train,y_train,color='red')\n",
    "plt.plot(X_train,regressor.predict(X_train),color='blue')\n",
    "plt.title('Salary vs Experience(Training set)')\n",
    "plt.xlabel('Years of Experience')\n",
    "plt.ylabel('Salary')\n",
    "plt.show()"
   ]
  },
  {
   "cell_type": "markdown",
   "id": "da08cb48",
   "metadata": {},
   "source": [
    "# Visualize the Test set results"
   ]
  },
  {
   "cell_type": "code",
   "execution_count": 23,
   "id": "7f94f7be",
   "metadata": {},
   "outputs": [
    {
     "data": {
      "image/png": "[encoded data removed]",
      "text/plain": [
       "<Figure size 432x288 with 1 Axes>"
      ]
     },
     "metadata": {
      "needs_background": "light"
     },
     "output_type": "display_data"
    }
   ],
   "source": [
    "plt.scatter(X_test,y_test,color='red')\n",
    "plt.plot(X_train,regressor.predict(X_train),color='blue')\n",
    "plt.title('Salary vs Experience(Test set)')\n",
    "plt.xlabel('Years of Experience')\n",
    "plt.ylabel('Salary')\n",
    "plt.show()"
   ]
  },
  {
   "cell_type": "code",
   "execution_count": null,
   "id": "531116a0",
   "metadata": {},
   "outputs": [],
   "source": []
  }
 ],
 "metadata": {
  "kernelspec": {
   "display_name": "Python 3",
   "language": "python",
   "name": "python3"
  },
  "language_info": {
   "codemirror_mode": {
    "name": "ipython",
    "version": 3
   },
   "file_extension": ".py",
   "mimetype": "text/x-python",
   "name": "python",
   "nbconvert_exporter": "python",
   "pygments_lexer": "ipython3",
   "version": "3.8.8"
  }
 },
 "nbformat": 4,
 "nbformat_minor": 5
}
